{
  "metadata": {
    "kernelspec": {
      "display_name": "Python 3",
      "name": "python3"
    },
    "language_info": {
      "name": "python",
      "version": "3.10.12",
      "mimetype": "text/x-python",
      "codemirror_mode": {
        "name": "ipython",
        "version": 3
      },
      "pygments_lexer": "ipython3",
      "nbconvert_exporter": "python",
      "file_extension": ".py"
    },
    "kaggle": {
      "accelerator": "nvidiaTeslaT4",
      "dataSources": [],
      "dockerImageVersionId": 30559,
      "isInternetEnabled": true,
      "language": "python",
      "sourceType": "notebook",
      "isGpuEnabled": true
    },
    "colab": {
      "provenance": [],
      "gpuType": "T4"
    },
    "accelerator": "GPU"
  },
  "nbformat_minor": 0,
  "nbformat": 4,
  "cells": [
    {
      "cell_type": "markdown",
      "source": [
        "# Team 2\n",
        "Names:\n",
        "1. Akshay Kumar Rayapet Madhusudhan - 1002154477\n",
        "2. Sudhamsh Rama - 1002210904\n",
        "\n",
        "Link To Colab: https://colab.research.google.com/drive/10lAeG0JnsdHV69MBiTg8TJRvJEqE_Noc?usp=sharing"
      ],
      "metadata": {
        "id": "i5zQeO9p77qi"
      }
    },
    {
      "cell_type": "markdown",
      "source": [
        "## Import libraries"
      ],
      "metadata": {
        "id": "lJJu9mI9WArI"
      }
    },
    {
      "cell_type": "code",
      "source": [
        "import numpy as np\n",
        "import matplotlib.pyplot as plt\n",
        "from sklearn.metrics import accuracy_score, precision_score, recall_score, f1_score, confusion_matrix\n",
        "from typing import Tuple, Iterable\n",
        "import pickle"
      ],
      "metadata": {
        "trusted": true,
        "execution": {
          "iopub.status.busy": "2024-10-13T02:55:30.485938Z",
          "iopub.execute_input": "2024-10-13T02:55:30.486286Z",
          "iopub.status.idle": "2024-10-13T02:55:30.491463Z",
          "shell.execute_reply.started": "2024-10-13T02:55:30.486256Z",
          "shell.execute_reply": "2024-10-13T02:55:30.490381Z"
        },
        "id": "d-uec6j6WArI"
      },
      "outputs": [],
      "execution_count": null
    },
    {
      "cell_type": "code",
      "source": [
        "import torch\n",
        "import torch.nn as nn\n",
        "from torch.utils.data import  DataLoader, random_split\n",
        "import torch.optim as optim\n",
        "import torchvision\n",
        "import torchvision.transforms as transforms"
      ],
      "metadata": {
        "execution": {
          "iopub.status.busy": "2024-10-13T02:55:33.529538Z",
          "iopub.execute_input": "2024-10-13T02:55:33.530271Z",
          "iopub.status.idle": "2024-10-13T02:55:33.534741Z",
          "shell.execute_reply.started": "2024-10-13T02:55:33.530240Z",
          "shell.execute_reply": "2024-10-13T02:55:33.533869Z"
        },
        "trusted": true,
        "id": "pl8HC0O3WArJ"
      },
      "outputs": [],
      "execution_count": null
    },
    {
      "cell_type": "markdown",
      "source": [
        "## Check for GPU or TPU"
      ],
      "metadata": {
        "id": "QDyE1nJ_cJG3"
      }
    },
    {
      "cell_type": "code",
      "source": [
        "device = torch.device(\"cuda\" if torch.cuda.is_available() else \"cpu\")"
      ],
      "metadata": {
        "execution": {
          "iopub.status.busy": "2024-10-13T02:55:35.642622Z",
          "iopub.execute_input": "2024-10-13T02:55:35.643657Z",
          "iopub.status.idle": "2024-10-13T02:55:35.649312Z",
          "shell.execute_reply.started": "2024-10-13T02:55:35.643592Z",
          "shell.execute_reply": "2024-10-13T02:55:35.647977Z"
        },
        "trusted": true,
        "id": "nwrmGsyiWArJ"
      },
      "outputs": [],
      "execution_count": null
    },
    {
      "cell_type": "markdown",
      "source": [
        "## Load dataset"
      ],
      "metadata": {
        "id": "86bNBEbicNLD"
      }
    },
    {
      "cell_type": "code",
      "source": [
        "transform = torchvision.transforms.Compose( [torchvision.transforms.ToTensor(), torchvision.transforms.Normalize((0.5, 0.5, 0.5), (0.5, 0.5, 0.5))])\n",
        "trainset = torchvision.datasets.CIFAR10(root='./data', train=True, download=True, transform=transform)\n",
        "testset = torchvision.datasets.CIFAR10(root='./data', train=False, download=True, transform=transform)"
      ],
      "metadata": {
        "execution": {
          "iopub.status.busy": "2024-10-13T02:55:36.881132Z",
          "iopub.execute_input": "2024-10-13T02:55:36.882053Z",
          "iopub.status.idle": "2024-10-13T02:55:38.470619Z",
          "shell.execute_reply.started": "2024-10-13T02:55:36.882017Z",
          "shell.execute_reply": "2024-10-13T02:55:38.469628Z"
        },
        "trusted": true,
        "colab": {
          "base_uri": "https://localhost:8080/"
        },
        "id": "6LsTqkOMWArJ",
        "outputId": "b818846c-743c-496f-b42d-d5ad00be0cc4"
      },
      "outputs": [
        {
          "output_type": "stream",
          "name": "stdout",
          "text": [
            "Downloading https://www.cs.toronto.edu/~kriz/cifar-10-python.tar.gz to ./data/cifar-10-python.tar.gz\n"
          ]
        },
        {
          "output_type": "stream",
          "name": "stderr",
          "text": [
            "100%|██████████| 170498071/170498071 [00:08<00:00, 20303611.28it/s]\n"
          ]
        },
        {
          "output_type": "stream",
          "name": "stdout",
          "text": [
            "Extracting ./data/cifar-10-python.tar.gz to ./data\n",
            "Files already downloaded and verified\n"
          ]
        }
      ],
      "execution_count": null
    },
    {
      "cell_type": "code",
      "source": [
        "len(trainset), len(testset)"
      ],
      "metadata": {
        "colab": {
          "base_uri": "https://localhost:8080/"
        },
        "id": "YFeAQjqxmtZ9",
        "outputId": "9592c1ed-9c41-43b1-cf65-9c09b63f1669"
      },
      "execution_count": null,
      "outputs": [
        {
          "output_type": "execute_result",
          "data": {
            "text/plain": [
              "(50000, 10000)"
            ]
          },
          "metadata": {},
          "execution_count": 47
        }
      ]
    },
    {
      "cell_type": "code",
      "source": [
        "train_size = int(0.9 * len(trainset))\n",
        "val_size = len(trainset) - train_size\n",
        "\n",
        "train_subset, val_subset = random_split(trainset, [train_size, val_size])"
      ],
      "metadata": {
        "id": "exGuCTUtmxtE"
      },
      "execution_count": null,
      "outputs": []
    },
    {
      "cell_type": "code",
      "source": [
        "len(train_subset), len(val_subset)"
      ],
      "metadata": {
        "colab": {
          "base_uri": "https://localhost:8080/"
        },
        "id": "nj6RcIlyq7IQ",
        "outputId": "43b7f3fc-bf32-4988-e4fc-3469dfaf6317"
      },
      "execution_count": null,
      "outputs": [
        {
          "output_type": "execute_result",
          "data": {
            "text/plain": [
              "(45000, 5000)"
            ]
          },
          "metadata": {},
          "execution_count": 54
        }
      ]
    },
    {
      "cell_type": "code",
      "source": [
        "batch_size = 32\n",
        "train_loader = DataLoader(dataset=train_subset,batch_size=batch_size,shuffle=True)\n",
        "val_loader = DataLoader(dataset=val_subset,batch_size=batch_size,shuffle=True)\n",
        "test_loader = DataLoader(dataset=testset,batch_size=batch_size,shuffle=True)"
      ],
      "metadata": {
        "execution": {
          "iopub.status.busy": "2024-10-13T02:55:39.729245Z",
          "iopub.execute_input": "2024-10-13T02:55:39.729625Z",
          "iopub.status.idle": "2024-10-13T02:55:39.736358Z",
          "shell.execute_reply.started": "2024-10-13T02:55:39.729595Z",
          "shell.execute_reply": "2024-10-13T02:55:39.735017Z"
        },
        "trusted": true,
        "id": "Oh02Le0-WArJ"
      },
      "outputs": [],
      "execution_count": null
    },
    {
      "cell_type": "markdown",
      "source": [
        "## Define Model"
      ],
      "metadata": {
        "id": "dLgtEz23cQ7i"
      }
    },
    {
      "cell_type": "markdown",
      "source": [
        "### Model 1\n",
        "for the below model, the input channels are 4 RBG and the number of output channels are increase as the network goes deeper\n",
        "\n",
        "From, 32 -> 256 -> 1024 -> 256\n",
        "\n",
        "After each convolutional layer, batch normalisation is applied, to normalise the output of the previous layer\n",
        "The activation used us ReLU after each convolutional layer and fully connected layer.\n",
        "\n",
        "Max Pooling layer is used to downsample the feature maps, reducing dimensions.\n",
        "\n",
        "After all the layers we are going to flatten the output to a fully connected layer converting 3D tensors to 1D tensor.\n",
        "\n",
        "At the end of the layers we are using nn.Linear and Dropout layer to prevent overfitting the model. Since we have 10 classes we are using 10 output united at the end"
      ],
      "metadata": {
        "id": "5bXnzF0p9yS4"
      }
    },
    {
      "cell_type": "code",
      "source": [
        "class Net(nn.Module):\n",
        "    def __init__(self):\n",
        "        super().__init__()\n",
        "        self.network = nn.Sequential(\n",
        "            nn.Conv2d(3, 32, kernel_size=3, padding=1),\n",
        "            nn.BatchNorm2d(32),\n",
        "            nn.ReLU(),\n",
        "            nn.Conv2d(32, 256, kernel_size=3, padding=1),\n",
        "            nn.BatchNorm2d(256),\n",
        "            nn.ReLU(),\n",
        "            nn.MaxPool2d(2, 2),\n",
        "\n",
        "            nn.Conv2d(256, 1024, kernel_size=3, padding=1),\n",
        "            nn.BatchNorm2d(1024),\n",
        "            nn.ReLU(),\n",
        "            nn.MaxPool2d(2, 2),\n",
        "\n",
        "            nn.Conv2d(1024, 256, kernel_size=3, padding=1),\n",
        "            nn.BatchNorm2d(256),\n",
        "            nn.ReLU(),\n",
        "            nn.Conv2d(256, 256, kernel_size=3, padding=1),\n",
        "            nn.BatchNorm2d(256),\n",
        "            nn.ReLU(),\n",
        "            nn.MaxPool2d(2, 2),\n",
        "\n",
        "            nn.Flatten(),\n",
        "            nn.Linear(256 * 4 * 4, 1024),\n",
        "            nn.ReLU(),\n",
        "            nn.Dropout(0.5),\n",
        "            nn.Linear(1024, 512),\n",
        "            nn.ReLU(),\n",
        "            nn.Linear(512, 10)\n",
        "        )\n",
        "\n",
        "    def forward(self, x):\n",
        "        return self.network(x)\n",
        "\n",
        "\n",
        "model = Net()\n",
        "model.to(device)"
      ],
      "metadata": {
        "execution": {
          "iopub.status.busy": "2024-10-13T03:24:31.365392Z",
          "iopub.execute_input": "2024-10-13T03:24:31.365721Z",
          "iopub.status.idle": "2024-10-13T03:24:31.466264Z",
          "shell.execute_reply.started": "2024-10-13T03:24:31.365695Z",
          "shell.execute_reply": "2024-10-13T03:24:31.465376Z"
        },
        "trusted": true,
        "colab": {
          "base_uri": "https://localhost:8080/"
        },
        "id": "rCWXKzPvWArK",
        "outputId": "94823bf5-a708-4e51-968c-3774d163ae4b"
      },
      "outputs": [
        {
          "output_type": "execute_result",
          "data": {
            "text/plain": [
              "Net(\n",
              "  (network): Sequential(\n",
              "    (0): Conv2d(3, 32, kernel_size=(3, 3), stride=(1, 1), padding=(1, 1))\n",
              "    (1): BatchNorm2d(32, eps=1e-05, momentum=0.1, affine=True, track_running_stats=True)\n",
              "    (2): ReLU()\n",
              "    (3): Conv2d(32, 256, kernel_size=(3, 3), stride=(1, 1), padding=(1, 1))\n",
              "    (4): BatchNorm2d(256, eps=1e-05, momentum=0.1, affine=True, track_running_stats=True)\n",
              "    (5): ReLU()\n",
              "    (6): MaxPool2d(kernel_size=2, stride=2, padding=0, dilation=1, ceil_mode=False)\n",
              "    (7): Conv2d(256, 1024, kernel_size=(3, 3), stride=(1, 1), padding=(1, 1))\n",
              "    (8): BatchNorm2d(1024, eps=1e-05, momentum=0.1, affine=True, track_running_stats=True)\n",
              "    (9): ReLU()\n",
              "    (10): MaxPool2d(kernel_size=2, stride=2, padding=0, dilation=1, ceil_mode=False)\n",
              "    (11): Conv2d(1024, 256, kernel_size=(3, 3), stride=(1, 1), padding=(1, 1))\n",
              "    (12): BatchNorm2d(256, eps=1e-05, momentum=0.1, affine=True, track_running_stats=True)\n",
              "    (13): ReLU()\n",
              "    (14): Conv2d(256, 256, kernel_size=(3, 3), stride=(1, 1), padding=(1, 1))\n",
              "    (15): BatchNorm2d(256, eps=1e-05, momentum=0.1, affine=True, track_running_stats=True)\n",
              "    (16): ReLU()\n",
              "    (17): MaxPool2d(kernel_size=2, stride=2, padding=0, dilation=1, ceil_mode=False)\n",
              "    (18): Flatten(start_dim=1, end_dim=-1)\n",
              "    (19): Linear(in_features=4096, out_features=1024, bias=True)\n",
              "    (20): ReLU()\n",
              "    (21): Dropout(p=0.5, inplace=False)\n",
              "    (22): Linear(in_features=1024, out_features=512, bias=True)\n",
              "    (23): ReLU()\n",
              "    (24): Linear(in_features=512, out_features=10, bias=True)\n",
              "  )\n",
              ")"
            ]
          },
          "metadata": {},
          "execution_count": 58
        }
      ],
      "execution_count": null
    },
    {
      "cell_type": "code",
      "source": [
        "criterion = nn.CrossEntropyLoss()\n",
        "optimizer = optim.SGD(model.parameters(), lr=0.006, momentum=0.9)"
      ],
      "metadata": {
        "execution": {
          "iopub.status.busy": "2024-10-13T03:24:31.976434Z",
          "iopub.execute_input": "2024-10-13T03:24:31.976858Z",
          "iopub.status.idle": "2024-10-13T03:24:31.982072Z",
          "shell.execute_reply.started": "2024-10-13T03:24:31.976828Z",
          "shell.execute_reply": "2024-10-13T03:24:31.980976Z"
        },
        "trusted": true,
        "id": "p4KkUqfrWArK"
      },
      "outputs": [],
      "execution_count": null
    },
    {
      "cell_type": "markdown",
      "source": [
        "## Fit Model"
      ],
      "metadata": {
        "id": "JlmK_G_2cVwO"
      }
    },
    {
      "cell_type": "code",
      "source": [
        "num_epochs = 9\n",
        "\n",
        "train_losses = []\n",
        "train_accuracies = []\n",
        "\n",
        "predictions = []\n",
        "true_labels = []\n",
        "\n",
        "for epoch in range(num_epochs):\n",
        "    model.train()\n",
        "    total_loss = 0.0\n",
        "    correct_predictions = 0\n",
        "    total_samples = 0\n",
        "\n",
        "    for batch_images, batch_labels in train_loader:\n",
        "        batch_images, batch_labels = batch_images.to(device), batch_labels.to(device)\n",
        "\n",
        "        outputs = model(batch_images)\n",
        "        loss = criterion(outputs, batch_labels)\n",
        "\n",
        "        optimizer.zero_grad()\n",
        "        loss.backward()\n",
        "        optimizer.step()\n",
        "\n",
        "        total_loss += loss.item()\n",
        "\n",
        "        _, predicted_labels = torch.max(outputs.data, 1)\n",
        "        correct_predictions += (predicted_labels == batch_labels).sum().item()\n",
        "        total_samples += batch_labels.size(0)\n",
        "\n",
        "    model.eval()\n",
        "    total_val_loss = 0.0\n",
        "    correct_val_predictions = 0\n",
        "    val_total_samples = 0\n",
        "\n",
        "    with torch.no_grad():\n",
        "        for batch_images, batch_labels in val_loader:\n",
        "            batch_images, batch_labels = batch_images.to(device), batch_labels.to(device)\n",
        "            true_labels.append(batch_labels)\n",
        "\n",
        "            outputs = model(batch_images)\n",
        "            loss = criterion(outputs, batch_labels)\n",
        "            total_val_loss += loss.item()\n",
        "\n",
        "            _, predicted_labels = torch.max(outputs.data, 1)\n",
        "            predictions.append(predicted_labels)\n",
        "            val_total_samples += batch_labels.size(0)\n",
        "            correct_val_predictions += (predicted_labels == batch_labels).sum().item()\n",
        "\n",
        "    average_train_loss = total_loss / len(train_loader)\n",
        "    training_accuracy = (correct_predictions / total_samples) * 100\n",
        "\n",
        "    train_losses.append(average_train_loss)\n",
        "    train_accuracies.append(training_accuracy)\n",
        "\n",
        "    average_val_loss = total_val_loss / len(test_loader)\n",
        "    validation_accuracy = (correct_val_predictions / val_total_samples) * 100\n",
        "\n",
        "    print(f\"Epoch={epoch + 1}, Training [Loss, accuracy]: [{average_train_loss:.4f}, {training_accuracy:.2f}%], \\\n",
        "    Validation [Loss,accuracy]: [{average_val_loss:.4f}, {validation_accuracy:.2f}%]\")\n"
      ],
      "metadata": {
        "execution": {
          "iopub.status.busy": "2024-10-13T03:24:32.609499Z",
          "iopub.execute_input": "2024-10-13T03:24:32.609831Z",
          "iopub.status.idle": "2024-10-13T03:40:30.263750Z",
          "shell.execute_reply.started": "2024-10-13T03:24:32.609805Z",
          "shell.execute_reply": "2024-10-13T03:40:30.262386Z"
        },
        "trusted": true,
        "colab": {
          "base_uri": "https://localhost:8080/"
        },
        "id": "-iWOh9y0WArK",
        "outputId": "4e6d0e2c-0444-4882-be1f-0ff4e18d1db2"
      },
      "outputs": [
        {
          "output_type": "stream",
          "name": "stdout",
          "text": [
            "Epoch=1, Training [Loss, accuracy]: [1.3251, 51.90%],     Validation [Loss,accuracy]: [0.4711, 66.26%]\n",
            "Epoch=2, Training [Loss, accuracy]: [0.8922, 68.63%],     Validation [Loss,accuracy]: [0.4865, 66.00%]\n",
            "Epoch=3, Training [Loss, accuracy]: [0.7190, 75.09%],     Validation [Loss,accuracy]: [0.3170, 78.44%]\n",
            "Epoch=4, Training [Loss, accuracy]: [0.6037, 79.18%],     Validation [Loss,accuracy]: [0.3312, 77.24%]\n",
            "Epoch=5, Training [Loss, accuracy]: [0.5195, 82.12%],     Validation [Loss,accuracy]: [0.2742, 80.48%]\n",
            "Epoch=6, Training [Loss, accuracy]: [0.4439, 84.93%],     Validation [Loss,accuracy]: [0.2911, 80.32%]\n",
            "Epoch=7, Training [Loss, accuracy]: [0.3793, 86.77%],     Validation [Loss,accuracy]: [0.2295, 84.08%]\n",
            "Epoch=8, Training [Loss, accuracy]: [0.3242, 88.84%],     Validation [Loss,accuracy]: [0.2437, 83.56%]\n",
            "Epoch=9, Training [Loss, accuracy]: [0.2739, 90.54%],     Validation [Loss,accuracy]: [0.2306, 84.36%]\n"
          ]
        }
      ],
      "execution_count": null
    },
    {
      "cell_type": "code",
      "source": [
        "epochs = list(range(1, len(train_losses) + 1))\n",
        "\n",
        "plt.figure(figsize=(10, 5))\n",
        "plt.plot(epochs, train_losses, marker='o', linestyle='-', color='b')\n",
        "plt.title('Training Accuracy Over Epochs')\n",
        "plt.xlabel('Epochs')\n",
        "plt.ylabel('Training Accuracy')\n",
        "plt.xticks(epochs)\n",
        "plt.grid()\n",
        "plt.ylim(0, 1)\n",
        "plt.show()"
      ],
      "metadata": {
        "colab": {
          "base_uri": "https://localhost:8080/",
          "height": 487
        },
        "id": "cvKlgecJtNCY",
        "outputId": "a685f5c8-e21b-44cc-e1d4-9a54216ccc61"
      },
      "execution_count": null,
      "outputs": [
        {
          "output_type": "display_data",
          "data": {
            "text/plain": [
              "<Figure size 1000x500 with 1 Axes>"
            ],
            "image/png": "[encoded data removed]"
          },
          "metadata": {}
        }
      ]
    },
    {
      "cell_type": "markdown",
      "source": [
        "## Model 2\n",
        "for the below model, the input channels are 4 RBG and the number of output channels are increase as the network goes deeper.\n",
        "\n",
        "From, 32 -> 64 -> 128 -> 256.\n",
        "\n",
        "After each convolutional layer, batch\n",
        "normalisation is applied, to normalise the output of the previous layer The activation used us Leaky ReLU after each convolutional layer and fully connected layer.\n",
        "\n",
        "Max Pooling layer is used to downsample the feature maps, reducing dimensions.\n",
        "\n",
        "Dropout is included after the 2nd convolutional layer with 0.3 value and after first fully connected layer.\n",
        "\n",
        "After all the layers we are going to flatten the output to a fully connected layer converting 3D tensors to 1D tensor.\n",
        "\n",
        "At the end of the layers we are using nn.Linear to prevent overfitting the model. Since we have 10 classes we are using 10 output united at the end.\n",
        "\n",
        "\n",
        "**Optimizer**: Stochastic Gradient Descent (optim.SGD) is used with a learning rate of 0.001.\n",
        "**Loss Fn**: CrossEntropyloss is used for multi class classification"
      ],
      "metadata": {
        "id": "kCV3YMpA-8zH"
      }
    },
    {
      "cell_type": "code",
      "source": [
        "class ModifiedNet(nn.Module):\n",
        "    def __init__(self):\n",
        "        super().__init__()\n",
        "        self.network = nn.Sequential(\n",
        "            nn.Conv2d(3, 32, kernel_size=5, padding=2),  # 5 by 5\n",
        "            nn.BatchNorm2d(32),\n",
        "            nn.LeakyReLU(0.2),  # activation to LeakyReLU\n",
        "\n",
        "            nn.Conv2d(32, 64, kernel_size=5, padding=2),\n",
        "            nn.BatchNorm2d(64),\n",
        "            nn.LeakyReLU(0.2),\n",
        "            nn.MaxPool2d(2, 2),\n",
        "            nn.Dropout(0.3),\n",
        "\n",
        "            nn.Conv2d(64, 128, kernel_size=3, padding=1),  # kernel size to 3x3\n",
        "            nn.BatchNorm2d(128),\n",
        "            nn.LeakyReLU(0.2),\n",
        "            nn.MaxPool2d(2, 2),\n",
        "\n",
        "            nn.Conv2d(128, 256, kernel_size=3, padding=1),\n",
        "            nn.BatchNorm2d(256),\n",
        "            nn.LeakyReLU(0.2),\n",
        "\n",
        "            nn.Flatten(),\n",
        "            nn.Linear(256 * 8 * 8, 2048),\n",
        "            nn.LeakyReLU(0.2),\n",
        "            nn.Dropout(0.5),\n",
        "            nn.Linear(2048, 1024),\n",
        "            nn.LeakyReLU(0.2),\n",
        "            nn.Linear(1024, 512),\n",
        "            nn.LeakyReLU(0.2),\n",
        "            nn.Linear(512, 10)\n",
        "        )\n",
        "\n",
        "    def forward(self, x):\n",
        "        return self.network(x)\n",
        "\n",
        "\n",
        "model2 = ModifiedNet()\n",
        "model2.to(device)\n",
        "\n",
        "optimizer = optim.SGD(model2.parameters(), lr=0.001, momentum=0.9)\n",
        "criterion = nn.CrossEntropyLoss()"
      ],
      "metadata": {
        "id": "Jn_i-5SzwPZ7"
      },
      "execution_count": null,
      "outputs": []
    },
    {
      "cell_type": "code",
      "source": [
        "num_epochs = 12\n",
        "\n",
        "train_losses = []\n",
        "train_accuracies = []\n",
        "val_losses = []\n",
        "val_accuracies = []\n",
        "\n",
        "predictions = []\n",
        "true_labels = []\n",
        "\n",
        "for epoch in range(num_epochs):\n",
        "    model2.train()\n",
        "    total_loss = 0.0\n",
        "    correct_predictions = 0\n",
        "    total_samples = 0\n",
        "\n",
        "    for batch_images, batch_labels in train_loader:\n",
        "        batch_images, batch_labels = batch_images.to(device), batch_labels.to(device)\n",
        "\n",
        "        outputs = model2(batch_images)\n",
        "        loss = criterion(outputs, batch_labels)\n",
        "\n",
        "        optimizer.zero_grad()\n",
        "        loss.backward()\n",
        "        optimizer.step()\n",
        "\n",
        "        total_loss += loss.item()\n",
        "\n",
        "        _, predicted_labels = torch.max(outputs.data, 1)\n",
        "        correct_predictions += (predicted_labels == batch_labels).sum().item()\n",
        "        total_samples += batch_labels.size(0)\n",
        "\n",
        "    model2.eval()\n",
        "    total_val_loss = 0.0\n",
        "    correct_val_predictions = 0\n",
        "    val_total_samples = 0\n",
        "\n",
        "    with torch.no_grad():\n",
        "        for batch_images, batch_labels in val_loader:\n",
        "            batch_images, batch_labels = batch_images.to(device), batch_labels.to(device)\n",
        "            true_labels.append(batch_labels)\n",
        "\n",
        "            outputs = model2(batch_images)\n",
        "            loss = criterion(outputs, batch_labels)\n",
        "            total_val_loss += loss.item()\n",
        "\n",
        "            _, predicted_labels = torch.max(outputs.data, 1)\n",
        "            predictions.append(predicted_labels)\n",
        "            val_total_samples += batch_labels.size(0)\n",
        "            correct_val_predictions += (predicted_labels == batch_labels).sum().item()\n",
        "\n",
        "    average_train_loss = total_loss / len(train_loader)\n",
        "    training_accuracy = (correct_predictions / total_samples) * 100\n",
        "\n",
        "    train_losses.append(average_train_loss)\n",
        "    train_accuracies.append(training_accuracy)\n",
        "\n",
        "    average_val_loss = total_val_loss / len(test_loader)\n",
        "    val_losses.append(average_val_loss)\n",
        "    validation_accuracy = (correct_val_predictions / val_total_samples) * 100\n",
        "\n",
        "    print(f\"Epoch={epoch + 1}, Training [Loss, accuracy]: [{average_train_loss:.4f}, {training_accuracy:.2f}%], \\\n",
        "    Validation [Loss,accuracy]: [{average_val_loss:.4f}, {validation_accuracy:.2f}%]\")\n"
      ],
      "metadata": {
        "colab": {
          "base_uri": "https://localhost:8080/"
        },
        "id": "eYTQVU2H1FaL",
        "outputId": "438d544d-6c75-4fad-b773-7535cef390c0"
      },
      "execution_count": null,
      "outputs": [
        {
          "output_type": "stream",
          "name": "stdout",
          "text": [
            "Epoch=1, Training [Loss, accuracy]: [1.5815, 42.52%],     Validation [Loss,accuracy]: [0.6410, 53.44%]\n",
            "Epoch=2, Training [Loss, accuracy]: [1.0853, 61.10%],     Validation [Loss,accuracy]: [0.5325, 61.86%]\n",
            "Epoch=3, Training [Loss, accuracy]: [0.9122, 67.57%],     Validation [Loss,accuracy]: [0.4950, 64.38%]\n",
            "Epoch=4, Training [Loss, accuracy]: [0.8005, 71.61%],     Validation [Loss,accuracy]: [0.4806, 66.82%]\n",
            "Epoch=5, Training [Loss, accuracy]: [0.7225, 74.50%],     Validation [Loss,accuracy]: [0.3822, 73.24%]\n",
            "Epoch=6, Training [Loss, accuracy]: [0.6570, 76.87%],     Validation [Loss,accuracy]: [0.3871, 73.62%]\n",
            "Epoch=7, Training [Loss, accuracy]: [0.6009, 78.58%],     Validation [Loss,accuracy]: [0.3295, 77.74%]\n",
            "Epoch=8, Training [Loss, accuracy]: [0.5487, 80.53%],     Validation [Loss,accuracy]: [0.3276, 77.12%]\n",
            "Epoch=9, Training [Loss, accuracy]: [0.5016, 82.24%],     Validation [Loss,accuracy]: [0.3643, 75.52%]\n",
            "Epoch=10, Training [Loss, accuracy]: [0.4566, 83.99%],     Validation [Loss,accuracy]: [0.3083, 79.08%]\n",
            "Epoch=11, Training [Loss, accuracy]: [0.4148, 85.34%],     Validation [Loss,accuracy]: [0.3267, 78.28%]\n",
            "Epoch=12, Training [Loss, accuracy]: [0.3795, 86.60%],     Validation [Loss,accuracy]: [0.2983, 80.52%]\n"
          ]
        }
      ]
    },
    {
      "cell_type": "code",
      "source": [
        "def predict_test(model):\n",
        "    model.eval()\n",
        "    test_loss = 0.0\n",
        "    correct_test_predictions = 0\n",
        "    test_total_samples = 0\n",
        "\n",
        "    test_predictions = []\n",
        "    test_true_labels = []\n",
        "\n",
        "    with torch.no_grad():\n",
        "        for batch_images, batch_labels in test_loader:\n",
        "            batch_images, batch_labels = batch_images.to(device), batch_labels.to(device)\n",
        "            test_true_labels.append(batch_labels)\n",
        "\n",
        "            outputs = model(batch_images)\n",
        "            loss = criterion(outputs, batch_labels)\n",
        "            test_loss += loss.item()\n",
        "\n",
        "            _, predicted_labels = torch.max(outputs.data, 1)\n",
        "            test_predictions.append(predicted_labels)\n",
        "\n",
        "            test_total_samples += batch_labels.size(0)\n",
        "            correct_test_predictions += (predicted_labels == batch_labels).sum().item()\n",
        "    print(\"Test Loss:\", test_loss / len(test_loader))\n",
        "    print(\"Test Accuracy:\", (correct_test_predictions / test_total_samples) * 100)\n",
        "    return test_predictions, test_true_labels\n",
        "test_predictions1, test_true_labels1 = predict_test(model)\n",
        "test_predictions2, test_true_labels2 = predict_test(model2)"
      ],
      "metadata": {
        "colab": {
          "base_uri": "https://localhost:8080/"
        },
        "id": "5YfJRBEFvdU1",
        "outputId": "8fd6e4d8-c435-407f-c062-0ecad9a1f6ee"
      },
      "execution_count": null,
      "outputs": [
        {
          "output_type": "stream",
          "name": "stdout",
          "text": [
            "Test Loss: 0.5224467100093539\n",
            "Test Accuracy: 83.28999999999999\n",
            "Test Loss: 0.6570166557932052\n",
            "Test Accuracy: 78.86\n"
          ]
        }
      ]
    },
    {
      "cell_type": "markdown",
      "source": [
        "## Result\n",
        "The model 1 demonstrates better performance with a lower test loss of 0.5224 and a higher test accuracy of 83.29%. This indicates that the model effectively learned to classify the data during training and generalizes well to the test set.\n",
        "\n",
        "The model 2, while still performing reasonably well, has a higher test loss of 0.6570 and a lower test accuracy of 78.86%. This suggests that it struggles more than the first model in accurately predicting the test set classes. the possible reason can be that the model 2 has less layers than the model 1, despite the Leaky ReLU and dropouts."
      ],
      "metadata": {
        "id": "NOaB8dY___eB"
      }
    },
    {
      "cell_type": "code",
      "source": [
        "def eval(true_labels, predicted_labels):\n",
        "    true_labels = torch.cat(true_labels).cpu().numpy()\n",
        "    predicted_labels = torch.cat(predicted_labels).cpu().numpy()\n",
        "\n",
        "    accuracy = accuracy_score(true_labels, predicted_labels)\n",
        "\n",
        "    precision = precision_score(true_labels, predicted_labels, average=None)\n",
        "    recall = recall_score(true_labels, predicted_labels, average=None)\n",
        "    f1 = f1_score(true_labels, predicted_labels, average=None)\n",
        "\n",
        "    conf_matrix = confusion_matrix(true_labels, predicted_labels)\n",
        "\n",
        "    print(\"Accuracy:\", accuracy)\n",
        "    print(\"Precision per class:\", precision)\n",
        "    print(\"Recall per class:\", recall)\n",
        "    print(\"F1 Score per class:\", f1)\n",
        "    print(\"Confusion Matrix:\\n\", conf_matrix)\n",
        "\n",
        "    macro_precision = precision_score(true_labels, predicted_labels, average='macro')\n",
        "    macro_recall = recall_score(true_labels, predicted_labels, average='macro')\n",
        "    macro_f1 = f1_score(true_labels, predicted_labels, average='macro')\n",
        "\n",
        "    micro_precision = precision_score(true_labels, predicted_labels, average='micro')\n",
        "    micro_recall = recall_score(true_labels, predicted_labels, average='micro')\n",
        "    micro_f1 = f1_score(true_labels, predicted_labels, average='micro')\n",
        "\n",
        "    print(\"Macro Precision:\", macro_precision)\n",
        "    print(\"Macro Recall:\", macro_recall)\n",
        "    print(\"Macro F1 Score:\", macro_f1)\n",
        "\n",
        "    print(\"Micro Precision:\", micro_precision)\n",
        "    print(\"Micro Recall:\", micro_recall)\n",
        "    print(\"Micro F1 Score:\", micro_f1)\n",
        "\n",
        "\n",
        "eval(test_true_labels1, test_predictions1)\n",
        "eval(test_true_labels2, test_predictions2)"
      ],
      "metadata": {
        "trusted": true,
        "execution": {
          "iopub.status.busy": "2024-10-13T14:43:52.337341Z",
          "iopub.execute_input": "2024-10-13T14:43:52.338027Z",
          "iopub.status.idle": "2024-10-13T14:43:52.351712Z",
          "shell.execute_reply.started": "2024-10-13T14:43:52.337984Z",
          "shell.execute_reply": "2024-10-13T14:43:52.350867Z"
        },
        "colab": {
          "base_uri": "https://localhost:8080/"
        },
        "id": "IFWw7WxhWArK",
        "outputId": "a462b34c-03da-4ee3-ad32-024d78d80cf5"
      },
      "outputs": [
        {
          "output_type": "stream",
          "name": "stdout",
          "text": [
            "Accuracy: 0.8329\n",
            "Precision per class: [0.75203252 0.83797909 0.8265896  0.71515152 0.82617188 0.76367188\n",
            " 0.86315789 0.90697674 0.92842105 0.95980512]\n",
            "Recall per class: [0.925 0.962 0.715 0.708 0.846 0.782 0.902 0.819 0.882 0.788]\n",
            "F1 Score per class: [0.82959641 0.89571695 0.76675603 0.71155779 0.83596838 0.77272727\n",
            " 0.88215159 0.86074619 0.90461538 0.86545854]\n",
            "Confusion Matrix:\n",
            " [[925  15  14   6   3   2   0   3  26   6]\n",
            " [ 10 962   2   3   2   1   2   0   6  12]\n",
            " [ 84   2 715  45  49  48  41  12   4   0]\n",
            " [ 33   6  35 708  35 112  40  17  10   4]\n",
            " [ 30   1  32  31 846  10  29  18   3   0]\n",
            " [ 18   4  21 113  30 782  13  19   0   0]\n",
            " [ 14   2  23  35  11   7 902   4   2   0]\n",
            " [ 26   3  15  23  47  59   3 819   3   2]\n",
            " [ 56  26   5  10   0   2   7   3 882   9]\n",
            " [ 34 127   3  16   1   1   8   8  14 788]]\n",
            "Macro Precision: 0.8379957282196109\n",
            "Macro Recall: 0.8329000000000001\n",
            "Macro F1 Score: 0.8325294535190085\n",
            "Micro Precision: 0.8329\n",
            "Micro Recall: 0.8329\n",
            "Micro F1 Score: 0.8329\n",
            "Accuracy: 0.7886\n",
            "Precision per class: [0.87382075 0.91336117 0.70137525 0.7088274  0.71779141 0.77125749\n",
            " 0.68600435 0.91274397 0.80678851 0.8512476 ]\n",
            "Recall per class: [0.741 0.875 0.714 0.538 0.819 0.644 0.946 0.795 0.927 0.887]\n",
            "F1 Score per class: [0.80194805 0.89376915 0.70763132 0.6117112  0.76506305 0.70190736\n",
            " 0.79529214 0.84981293 0.86272685 0.86875612]\n",
            "Confusion Matrix:\n",
            " [[741  16  45   8  15   1  22   6 102  44]\n",
            " [  2 875   9   4   2   0  16   0  31  61]\n",
            " [ 46   2 714  19  79  26  81  14  17   2]\n",
            " [  8   5  75 538  77 106 147  13  18  13]\n",
            " [  8   2  48  24 819  10  62  11  13   3]\n",
            " [  6   2  63 131  54 644  62  23   9   6]\n",
            " [  2   0  16  10  13   8 946   0   3   2]\n",
            " [  7   1  37  16  79  34  18 795   2  11]\n",
            " [ 19   9   7   4   2   5  12   2 927  13]\n",
            " [  9  46   4   5   1   1  13   7  27 887]]\n",
            "Macro Precision: 0.7943217905892845\n",
            "Macro Recall: 0.7886000000000001\n",
            "Macro F1 Score: 0.7858618178383008\n",
            "Micro Precision: 0.7886\n",
            "Micro Recall: 0.7886\n",
            "Micro F1 Score: 0.7886\n"
          ]
        }
      ],
      "execution_count": null
    },
    {
      "cell_type": "code",
      "source": [
        "torch.save(model2.state_dict(), 'cifar10_model2.pth')"
      ],
      "metadata": {
        "execution": {
          "iopub.status.busy": "2024-10-13T02:32:00.996416Z",
          "iopub.status.idle": "2024-10-13T02:32:00.996833Z",
          "shell.execute_reply.started": "2024-10-13T02:32:00.996643Z",
          "shell.execute_reply": "2024-10-13T02:32:00.996662Z"
        },
        "trusted": true,
        "id": "MXnGBAgWWArL"
      },
      "outputs": [],
      "execution_count": null
    },
    {
      "cell_type": "code",
      "source": [
        "classes = ['airplane', 'automobile', 'bird', 'cat', 'deer', 'dog', 'frog', 'horse', 'ship', 'truck']\n",
        "def predict_image(img, model):\n",
        "    img = img.unsqueeze(0).to(device)\n",
        "    outputs = model(img)\n",
        "    _, predicted_labels = torch.max(outputs.data, 1)\n",
        "    return classes[predicted_labels]"
      ],
      "metadata": {
        "id": "w2rzk19PgoKt"
      },
      "execution_count": null,
      "outputs": []
    },
    {
      "cell_type": "code",
      "source": [
        "img, label = testset[1001]\n",
        "plt.imshow(img.permute(1, 2, 0))\n",
        "print('Label:', classes[label], ', Predicted:', predict_image(img, model))"
      ],
      "metadata": {
        "execution": {
          "iopub.status.busy": "2024-10-13T02:32:00.998848Z",
          "iopub.status.idle": "2024-10-13T02:32:00.999301Z",
          "shell.execute_reply.started": "2024-10-13T02:32:00.999061Z",
          "shell.execute_reply": "2024-10-13T02:32:00.999082Z"
        },
        "trusted": true,
        "colab": {
          "base_uri": "https://localhost:8080/",
          "height": 465
        },
        "id": "5nSOWN8IWArL",
        "outputId": "95a5ea2c-0d99-4c78-a40e-cbf7a9348d4e"
      },
      "outputs": [
        {
          "output_type": "stream",
          "name": "stderr",
          "text": [
            "WARNING:matplotlib.image:Clipping input data to the valid range for imshow with RGB data ([0..1] for floats or [0..255] for integers).\n"
          ]
        },
        {
          "output_type": "stream",
          "name": "stdout",
          "text": [
            "Label: airplane , Predicted: airplane\n"
          ]
        },
        {
          "output_type": "display_data",
          "data": {
            "text/plain": [
              "<Figure size 640x480 with 1 Axes>"
            ],
            "image/png": "[encoded data removed]"
          },
          "metadata": {}
        }
      ],
      "execution_count": null
    },
    {
      "cell_type": "code",
      "source": [],
      "metadata": {
        "id": "puZlgwwkf6In"
      },
      "execution_count": null,
      "outputs": []
    }
  ]
}